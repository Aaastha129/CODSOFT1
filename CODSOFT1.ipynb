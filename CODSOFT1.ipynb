{
  "nbformat": 4,
  "nbformat_minor": 0,
  "metadata": {
    "colab": {
      "provenance": [],
      "authorship_tag": "ABX9TyNGplwSdqq9kz5cZBnMV5WD",
      "include_colab_link": true
    },
    "kernelspec": {
      "name": "python3",
      "display_name": "Python 3"
    },
    "language_info": {
      "name": "python"
    }
  },
  "cells": [
    {
      "cell_type": "markdown",
      "metadata": {
        "id": "view-in-github",
        "colab_type": "text"
      },
      "source": [
        "<a href=\"https://colab.research.google.com/github/Aaastha129/CODSOFT1/blob/main/CODSOFT1.ipynb\" target=\"_parent\"><img src=\"https://colab.research.google.com/assets/colab-badge.svg\" alt=\"Open In Colab\"/></a>"
      ]
    },
    {
      "cell_type": "code",
      "execution_count": null,
      "metadata": {
        "id": "JbYdAvqnjlZ5"
      },
      "outputs": [],
      "source": [
        "def calculator():\n",
        "  print(\"simple calculator\")\n",
        "  a=int(input(\"Enter the value:\"))\n",
        "  b=int(input(\"Enter the value:\"))\n",
        "  print(\"Select operation\")\n",
        "  print(\"1. Add\")\n",
        "  print(\"2. Subtract\")\n",
        "  print(\"3. Multiply\")\n",
        "  print(\"4. Divide\")\n",
        "  choice = input(\"Enter choice (1/2/3/4): \")\n",
        "  if choice in ('1', '2', '3', '4'):\n",
        "    if choice == '1':\n",
        "        print(a+b)\n",
        "    elif choice == '2':\n",
        "        print(a-b)\n",
        "    elif choice == '3':\n",
        "        print(a*b)\n",
        "    elif choice == '4':\n",
        "        print(a/b)\n",
        "    else:\n",
        "        print(\"Invalid Operator\")\n",
        "\n",
        "calculator()"
      ]
    }
  ]
}